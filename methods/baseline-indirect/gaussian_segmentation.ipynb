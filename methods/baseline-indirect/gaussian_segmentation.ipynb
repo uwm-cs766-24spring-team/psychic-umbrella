{
 "cells": [
  {
   "cell_type": "code",
   "execution_count": 11,
   "metadata": {},
   "outputs": [],
   "source": [
    "import os\n",
    "from pathlib import Path\n",
    "import pickle\n",
    "import numpy as np\n",
    "from tqdm import tqdm\n",
    "import skimage.measure\n",
    "from skimage.morphology import dilation, erosion\n",
    "from sklearn.mixture import GaussianMixture\n",
    "from skimage.measure import label\n",
    "from PIL import Image\n",
    "import matplotlib.pyplot as plt\n",
    "import ipywidgets as widgets\n",
    "from ipywidgets import interact\n",
    "from ipywidgets import interactive\n",
    "from warnings import filterwarnings\n",
    "filterwarnings('ignore')"
   ]
  },
  {
   "cell_type": "code",
   "execution_count": null,
   "metadata": {},
   "outputs": [],
   "source": [
    "\"\"\"\n",
    "Training GMM w/ background data\n",
    "\"\"\"\n",
    "\n",
    "downsampleSize = 2\n",
    "skipAmount = 4\n",
    "nComponents = 5\n",
    "folderList = ['dataset/Crowd_PETS09/S0/Background/View_001/Time_13-06',\n",
    "              'dataset/Crowd_PETS09/S0/Background/View_001/Time_13-32']\n",
    "\n",
    "# ref = Image.open(folderList[0] + '/' + os.listdir(folderList[0])[0])\n",
    "trainingData = [] # np.zeros(np.array(ref.convert('L')).shape)\n",
    "\n",
    "for folder in folderList:\n",
    "    for i, file in enumerate(os.listdir(folder)):\n",
    "        if i % skipAmount == 0:\n",
    "            img = Image.open(folder + '/' + file)\n",
    "            img = np.array(img.convert('L')) # grayscale\n",
    "            img = skimage.measure.block_reduce(img, downsampleSize, np.mean) # downsample\n",
    "            trainingData.append(img)\n",
    "trainingData = np.array(trainingData)\n",
    "\n",
    "# N = np.arange(1, 6)\n",
    "mixtureModels = []\n",
    "for i in tqdm(range(trainingData.shape[1])):\n",
    "    temp = []\n",
    "    for j in range(trainingData.shape[2]):\n",
    "        pixelValues = trainingData[:, i, j]\n",
    "        # models = [None for j in range(len(N))]\n",
    "\n",
    "        # for k in range(len(N)):\n",
    "        #     models[k] = GaussianMixture(n_components=N[k]).fit(pixelValues.reshape(-1, 1))\n",
    "        # AIC = [m.aic(pixelValues.reshape(-1, 1)) for m in models]\n",
    "        # temp.append(models[np.argmin(AIC)])\n",
    "        temp.append(GaussianMixture(n_components=nComponents).fit(pixelValues.reshape(-1, 1)))\n",
    "    mixtureModels.append(temp)\n",
    "\n",
    "with open('methods/baseline-indirect/GMM.pkl', 'wb') as f:\n",
    "    pickle.dump(mixtureModels, f)"
   ]
  },
  {
   "cell_type": "code",
   "execution_count": 12,
   "metadata": {},
   "outputs": [
    {
     "name": "stderr",
     "output_type": "stream",
     "text": [
      "1it [00:25, 25.20s/it]"
     ]
    },
    {
     "name": "stdout",
     "output_type": "stream",
     "text": [
      "Pixels under threshold: 4806\n",
      "Number of people: 8\n"
     ]
    },
    {
     "name": "stderr",
     "output_type": "stream",
     "text": [
      "2it [00:49, 24.58s/it]"
     ]
    },
    {
     "name": "stdout",
     "output_type": "stream",
     "text": [
      "Pixels under threshold: 5766\n",
      "Number of people: 9\n"
     ]
    },
    {
     "name": "stderr",
     "output_type": "stream",
     "text": [
      "3it [01:13, 24.54s/it]"
     ]
    },
    {
     "name": "stdout",
     "output_type": "stream",
     "text": [
      "Pixels under threshold: 6217\n",
      "Number of people: 10\n"
     ]
    },
    {
     "name": "stderr",
     "output_type": "stream",
     "text": [
      "4it [01:37, 24.30s/it]"
     ]
    },
    {
     "name": "stdout",
     "output_type": "stream",
     "text": [
      "Pixels under threshold: 6362\n",
      "Number of people: 11\n"
     ]
    },
    {
     "name": "stderr",
     "output_type": "stream",
     "text": [
      "5it [02:02, 24.52s/it]"
     ]
    },
    {
     "name": "stdout",
     "output_type": "stream",
     "text": [
      "Pixels under threshold: 6625\n",
      "Number of people: 9\n"
     ]
    },
    {
     "name": "stderr",
     "output_type": "stream",
     "text": [
      "6it [02:26, 24.43s/it]"
     ]
    },
    {
     "name": "stdout",
     "output_type": "stream",
     "text": [
      "Pixels under threshold: 6775\n",
      "Number of people: 12\n"
     ]
    },
    {
     "name": "stderr",
     "output_type": "stream",
     "text": [
      "7it [02:51, 24.37s/it]"
     ]
    },
    {
     "name": "stdout",
     "output_type": "stream",
     "text": [
      "Pixels under threshold: 7005\n",
      "Number of people: 13\n",
      "Pixels under threshold: 7494\n"
     ]
    },
    {
     "name": "stderr",
     "output_type": "stream",
     "text": [
      "8it [03:15, 24.36s/it]"
     ]
    },
    {
     "name": "stdout",
     "output_type": "stream",
     "text": [
      "Number of people: 12\n"
     ]
    },
    {
     "name": "stderr",
     "output_type": "stream",
     "text": [
      "9it [03:41, 24.79s/it]"
     ]
    },
    {
     "name": "stdout",
     "output_type": "stream",
     "text": [
      "Pixels under threshold: 8259\n",
      "Number of people: 9\n",
      "Pixels under threshold: 8417\n"
     ]
    },
    {
     "name": "stderr",
     "output_type": "stream",
     "text": [
      "10it [04:05, 24.76s/it]"
     ]
    },
    {
     "name": "stdout",
     "output_type": "stream",
     "text": [
      "Number of people: 10\n",
      "Pixels under threshold: 8576\n"
     ]
    },
    {
     "name": "stderr",
     "output_type": "stream",
     "text": [
      "11it [04:30, 24.75s/it]"
     ]
    },
    {
     "name": "stdout",
     "output_type": "stream",
     "text": [
      "Number of people: 11\n",
      "Pixels under threshold: 8385\n"
     ]
    },
    {
     "name": "stderr",
     "output_type": "stream",
     "text": [
      "12it [04:56, 24.95s/it]"
     ]
    },
    {
     "name": "stdout",
     "output_type": "stream",
     "text": [
      "Number of people: 12\n",
      "Pixels under threshold: 8309\n"
     ]
    },
    {
     "name": "stderr",
     "output_type": "stream",
     "text": [
      "13it [05:21, 25.10s/it]"
     ]
    },
    {
     "name": "stdout",
     "output_type": "stream",
     "text": [
      "Number of people: 10\n",
      "Pixels under threshold: 8385\n"
     ]
    },
    {
     "name": "stderr",
     "output_type": "stream",
     "text": [
      "14it [05:47, 25.39s/it]"
     ]
    },
    {
     "name": "stdout",
     "output_type": "stream",
     "text": [
      "Number of people: 12\n",
      "Pixels under threshold: 8434\n"
     ]
    },
    {
     "name": "stderr",
     "output_type": "stream",
     "text": [
      "15it [06:13, 25.46s/it]"
     ]
    },
    {
     "name": "stdout",
     "output_type": "stream",
     "text": [
      "Number of people: 10\n",
      "Pixels under threshold: 8832\n"
     ]
    },
    {
     "name": "stderr",
     "output_type": "stream",
     "text": [
      "16it [06:39, 25.62s/it]"
     ]
    },
    {
     "name": "stdout",
     "output_type": "stream",
     "text": [
      "Number of people: 14\n",
      "Pixels under threshold: 8797\n"
     ]
    },
    {
     "name": "stderr",
     "output_type": "stream",
     "text": [
      "17it [07:04, 25.63s/it]"
     ]
    },
    {
     "name": "stdout",
     "output_type": "stream",
     "text": [
      "Number of people: 13\n",
      "Pixels under threshold: 10024\n"
     ]
    },
    {
     "name": "stderr",
     "output_type": "stream",
     "text": [
      "18it [07:30, 25.78s/it]"
     ]
    },
    {
     "name": "stdout",
     "output_type": "stream",
     "text": [
      "Number of people: 17\n",
      "Pixels under threshold: 10109\n"
     ]
    },
    {
     "name": "stderr",
     "output_type": "stream",
     "text": [
      "19it [07:56, 25.56s/it]"
     ]
    },
    {
     "name": "stdout",
     "output_type": "stream",
     "text": [
      "Number of people: 12\n",
      "Pixels under threshold: 10311\n"
     ]
    },
    {
     "name": "stderr",
     "output_type": "stream",
     "text": [
      "20it [08:22, 25.95s/it]"
     ]
    },
    {
     "name": "stdout",
     "output_type": "stream",
     "text": [
      "Number of people: 19\n",
      "Pixels under threshold: 10684\n"
     ]
    },
    {
     "name": "stderr",
     "output_type": "stream",
     "text": [
      "21it [08:46, 25.31s/it]"
     ]
    },
    {
     "name": "stdout",
     "output_type": "stream",
     "text": [
      "Number of people: 18\n",
      "Pixels under threshold: 10722\n"
     ]
    },
    {
     "name": "stderr",
     "output_type": "stream",
     "text": [
      "22it [09:10, 24.83s/it]"
     ]
    },
    {
     "name": "stdout",
     "output_type": "stream",
     "text": [
      "Number of people: 21\n",
      "Pixels under threshold: 10873\n"
     ]
    },
    {
     "name": "stderr",
     "output_type": "stream",
     "text": [
      "23it [09:34, 24.53s/it]"
     ]
    },
    {
     "name": "stdout",
     "output_type": "stream",
     "text": [
      "Number of people: 22\n",
      "Pixels under threshold: 11718\n"
     ]
    },
    {
     "name": "stderr",
     "output_type": "stream",
     "text": [
      "24it [09:57, 24.28s/it]"
     ]
    },
    {
     "name": "stdout",
     "output_type": "stream",
     "text": [
      "Number of people: 20\n",
      "Pixels under threshold: 11962\n"
     ]
    },
    {
     "name": "stderr",
     "output_type": "stream",
     "text": [
      "25it [10:21, 24.15s/it]"
     ]
    },
    {
     "name": "stdout",
     "output_type": "stream",
     "text": [
      "Number of people: 23\n",
      "Pixels under threshold: 12252\n"
     ]
    },
    {
     "name": "stderr",
     "output_type": "stream",
     "text": [
      "26it [10:45, 24.01s/it]"
     ]
    },
    {
     "name": "stdout",
     "output_type": "stream",
     "text": [
      "Number of people: 25\n",
      "Pixels under threshold: 11900\n"
     ]
    },
    {
     "name": "stderr",
     "output_type": "stream",
     "text": [
      "27it [11:09, 24.00s/it]"
     ]
    },
    {
     "name": "stdout",
     "output_type": "stream",
     "text": [
      "Number of people: 24\n",
      "Pixels under threshold: 12260\n"
     ]
    },
    {
     "name": "stderr",
     "output_type": "stream",
     "text": [
      "28it [11:33, 23.99s/it]"
     ]
    },
    {
     "name": "stdout",
     "output_type": "stream",
     "text": [
      "Number of people: 23\n",
      "Pixels under threshold: 12807\n"
     ]
    },
    {
     "name": "stderr",
     "output_type": "stream",
     "text": [
      "29it [11:57, 23.94s/it]"
     ]
    },
    {
     "name": "stdout",
     "output_type": "stream",
     "text": [
      "Number of people: 23\n",
      "Pixels under threshold: 13639\n"
     ]
    },
    {
     "name": "stderr",
     "output_type": "stream",
     "text": [
      "84it [12:21,  1.01it/s]"
     ]
    },
    {
     "name": "stdout",
     "output_type": "stream",
     "text": [
      "Number of people: 25\n"
     ]
    },
    {
     "name": "stderr",
     "output_type": "stream",
     "text": [
      "222it [12:21,  3.34s/it]\n"
     ]
    },
    {
     "name": "stdout",
     "output_type": "stream",
     "text": [
      "[8, 9, 10, 11, 9, 12, 13, 12, 9, 10, 11, 12, 10, 12, 10, 14, 13, 17, 12, 19, 18, 21, 22, 20, 23, 25, 24, 23, 23, 25]\n"
     ]
    },
    {
     "data": {
      "image/png": "[encoded data removed]",
      "text/plain": [
       "<Figure size 640x480 with 1 Axes>"
      ]
     },
     "metadata": {},
     "output_type": "display_data"
    }
   ],
   "source": [
    "\"\"\"\n",
    "Eval\n",
    "\"\"\"\n",
    "with open('methods/baseline-indirect/GMM.pkl', 'rb') as f:\n",
    "    mixtureModels = pickle.load(f)\n",
    "\n",
    "directory = 'dataset/Crowd_PETS09/S0/Regular_Flow/Time_13-57/View_001'\n",
    "result = []\n",
    "for num, filename in tqdm(enumerate(os.listdir(directory))):\n",
    "    f = os.path.join(directory, filename)\n",
    "    if os.path.isfile(f):\n",
    "        if num < 30:\n",
    "            img = Image.open(f)\n",
    "            img = np.array(img.convert('L')) # grayscale\n",
    "            output = np.zeros(img.shape)\n",
    "            for i in range(img.shape[0]):\n",
    "                for j in range(img.shape[1]):\n",
    "                    model = mixtureModels[int(i / 2)][int(j / 2)]\n",
    "                    output[i, j] = model.score_samples(img[i, j].reshape(-1, 1))[0]\n",
    "            \n",
    "            thresh = -250\n",
    "            view = np.copy(output)\n",
    "            print(f'Pixels under threshold: {np.sum(output < thresh)}')\n",
    "            t1 = np.where(view < thresh)\n",
    "            t2 = np.where(view >= thresh)\n",
    "            view[t1] = 255\n",
    "            view[t2] = 0\n",
    "\n",
    "            # plt.imshow(view)\n",
    "            # plt.show()\n",
    "\n",
    "            k = 5\n",
    "            view = dilation(view, footprint=np.ones((k, k)))\n",
    "            view = erosion(view, footprint=np.ones((k, k)))\n",
    "\n",
    "            k = 7\n",
    "            view = erosion(view, footprint=np.ones((k, k)))\n",
    "            view = dilation(view, footprint=np.ones((k, k)))\n",
    "\n",
    "            plt.imshow(view)\n",
    "            plt.savefig(directory + '/output/' + Path(f).stem + '_eval.png')\n",
    "            # plt.show()\n",
    "\n",
    "            countComponents = label(view)\n",
    "            print(f'Number of people: {np.max(countComponents)}')\n",
    "            result.append(np.max(countComponents))\n",
    "\n",
    "with open('methods/baseline-indirect/result.pkl', 'wb') as f:\n",
    "    pickle.dump(result, f)\n",
    "\n",
    "print(result)"
   ]
  },
  {
   "cell_type": "code",
   "execution_count": 15,
   "metadata": {},
   "outputs": [
    {
     "name": "stdout",
     "output_type": "stream",
     "text": [
      "30\n",
      "MSE: 33.266666666666666\n",
      "Average Error: 4.666666666666667\n"
     ]
    }
   ],
   "source": [
    "label = [6, 8, 8, 8, 8, 9, 9, 9, 9, 9, 9, 9, 9, 9, 9, 10, 10, 10,\n",
    "         11, 12, 12, 13, 13, 13, 13, 14, 14, 14, 15, 15] # ground truth for frame 0000-0029\n",
    "print(len(label))\n",
    "print(f'MSE: {np.sum(np.square(np.array(result) - np.array(label))) / len(label)}')\n",
    "print(f'Average Error: {np.sum(np.abs(np.array(result) - np.array(label))) / len(label)}')"
   ]
  },
  {
   "cell_type": "code",
   "execution_count": 3,
   "metadata": {},
   "outputs": [
    {
     "data": {
      "application/vnd.jupyter.widget-view+json": {
       "model_id": "66b2fb1b769c4b52aa66e9f41d673b4d",
       "version_major": 2,
       "version_minor": 0
      },
      "text/plain": [
       "interactive(children=(IntSlider(value=-250, description='thresh', max=0, min=-500), Output()), _dom_classes=('…"
      ]
     },
     "metadata": {},
     "output_type": "display_data"
    }
   ],
   "source": [
    "\"\"\"\n",
    "Visualization\n",
    "\"\"\"\n",
    "@widgets.interact(thresh=(-500, 0))\n",
    "def plot_bin_val_distribution(thresh):\n",
    "    print(f'Pixels under threshold: {np.sum(output < thresh)}')\n",
    "\n",
    "    view = np.copy(output)\n",
    "    t1 = np.where(view < thresh)\n",
    "    t2 = np.where(view >= thresh)\n",
    "    view[t1] = 255\n",
    "    view[t2] = 0\n",
    "\n",
    "    plt.imshow(img)\n",
    "    plt.colorbar()\n",
    "    plt.show()\n",
    "\n",
    "    plt.imshow(view)\n",
    "    plt.show()\n",
    "\n",
    "    k = 5\n",
    "    view = dilation(view, footprint=np.ones((k, k)))\n",
    "    view = erosion(view, footprint=np.ones((k, k)))\n",
    "\n",
    "    k = 7\n",
    "    view = erosion(view, footprint=np.ones((k, k)))\n",
    "    view = dilation(view, footprint=np.ones((k, k)))\n",
    "\n",
    "    plt.imshow(view)\n",
    "    plt.show()\n",
    "\n",
    "    countComponents = label(view)\n",
    "    print(f'Number of people: {np.max(countComponents)}')"
   ]
  },
  {
   "cell_type": "markdown",
   "metadata": {},
   "source": [
    "TODO: \n",
    "1) try adding mask on unimportant zones\n",
    "2) do a search over threshold value and noise removal parameters\n",
    "3) try cleaning result with gaussian blur from hw3\n",
    "4) visualize good sample (pixel) of GMM distribution for presentations"
   ]
  }
 ],
 "metadata": {
  "kernelspec": {
   "display_name": "Python 3 (ipykernel)",
   "language": "python",
   "name": "python3"
  },
  "language_info": {
   "codemirror_mode": {
    "name": "ipython",
    "version": 3
   },
   "file_extension": ".py",
   "mimetype": "text/x-python",
   "name": "python",
   "nbconvert_exporter": "python",
   "pygments_lexer": "ipython3",
   "version": "3.11.5"
  }
 },
 "nbformat": 4,
 "nbformat_minor": 2
}
