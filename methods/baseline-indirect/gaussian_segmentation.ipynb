{
 "cells": [
  {
   "cell_type": "code",
   "execution_count": 4,
   "metadata": {},
   "outputs": [],
   "source": [
    "import os\n",
    "import pickle\n",
    "import numpy as np\n",
    "from tqdm import tqdm\n",
    "import skimage.measure\n",
    "from skimage.morphology import dilation, erosion\n",
    "from sklearn.mixture import GaussianMixture\n",
    "from skimage.measure import label\n",
    "from PIL import Image\n",
    "import matplotlib.pyplot as plt\n",
    "import ipywidgets as widgets\n",
    "from ipywidgets import interact\n",
    "from ipywidgets import interactive\n",
    "from warnings import filterwarnings\n",
    "filterwarnings('ignore')"
   ]
  },
  {
   "cell_type": "code",
   "execution_count": null,
   "metadata": {},
   "outputs": [],
   "source": [
    "\"\"\"\n",
    "Training GMM w/ background data\n",
    "\"\"\"\n",
    "\n",
    "downsampleSize = 2\n",
    "skipAmount = 4\n",
    "nComponents = 5\n",
    "folderList = ['dataset/Crowd_PETS09/S0/Background/View_001/Time_13-06',\n",
    "              'dataset/Crowd_PETS09/S0/Background/View_001/Time_13-32']\n",
    "\n",
    "# ref = Image.open(folderList[0] + '/' + os.listdir(folderList[0])[0])\n",
    "trainingData = [] # np.zeros(np.array(ref.convert('L')).shape)\n",
    "\n",
    "for folder in folderList:\n",
    "    for i, file in enumerate(os.listdir(folder)):\n",
    "        if i % skipAmount == 0:\n",
    "            img = Image.open(folder + '/' + file)\n",
    "            img = np.array(img.convert('L')) # grayscale\n",
    "            img = skimage.measure.block_reduce(img, downsampleSize, np.mean) # downsample\n",
    "            trainingData.append(img)\n",
    "trainingData = np.array(trainingData)\n",
    "\n",
    "# N = np.arange(1, 6)\n",
    "mixtureModels = []\n",
    "for i in tqdm(range(trainingData.shape[1])):\n",
    "    temp = []\n",
    "    for j in range(trainingData.shape[2]):\n",
    "        pixelValues = trainingData[:, i, j]\n",
    "        # models = [None for j in range(len(N))]\n",
    "\n",
    "        # for k in range(len(N)):\n",
    "        #     models[k] = GaussianMixture(n_components=N[k]).fit(pixelValues.reshape(-1, 1))\n",
    "        # AIC = [m.aic(pixelValues.reshape(-1, 1)) for m in models]\n",
    "        # temp.append(models[np.argmin(AIC)])\n",
    "        temp.append(GaussianMixture(n_components=nComponents).fit(pixelValues.reshape(-1, 1)))\n",
    "    mixtureModels.append(temp)\n",
    "\n",
    "with open('methods/baseline-indirect/GMM.pkl', 'wb') as f:\n",
    "    pickle.dump(mixtureModels, f)"
   ]
  },
  {
   "cell_type": "code",
   "execution_count": 2,
   "metadata": {},
   "outputs": [
    {
     "name": "stderr",
     "output_type": "stream",
     "text": [
      "100%|██████████████████████████████████████████████████████████████████████████████████████████████████████████████████████████████████████████████████████████████████████████████| 576/576 [00:25<00:00, 22.82it/s]\n"
     ]
    }
   ],
   "source": [
    "\"\"\"\n",
    "Eval\n",
    "\"\"\"\n",
    "with open('methods/baseline-indirect/GMM.pkl', 'rb') as f:\n",
    "    mixtureModels = pickle.load(f)\n",
    "\n",
    "img = Image.open('dataset/Crowd_PETS09/S0/Regular_Flow/Time_13-57/View_001/frame_0018.jpg')\n",
    "img = np.array(img.convert('L')) # grayscale\n",
    "output = np.zeros(img.shape)\n",
    "for i in tqdm(range(img.shape[0])):\n",
    "    for j in range(img.shape[1]):\n",
    "        model = mixtureModels[int(i / 2)][int(j / 2)]\n",
    "        output[i, j] = model.score_samples(img[i, j].reshape(-1, 1))[0]"
   ]
  },
  {
   "cell_type": "code",
   "execution_count": 19,
   "metadata": {},
   "outputs": [
    {
     "data": {
      "application/vnd.jupyter.widget-view+json": {
       "model_id": "06f7309260b84bcb9b3fb2bd9f059913",
       "version_major": 2,
       "version_minor": 0
      },
      "text/plain": [
       "interactive(children=(IntSlider(value=-250, description='thresh', max=0, min=-500), Output()), _dom_classes=('…"
      ]
     },
     "metadata": {},
     "output_type": "display_data"
    }
   ],
   "source": [
    "\"\"\"\n",
    "Visualization\n",
    "\"\"\"\n",
    "@widgets.interact(thresh=(-500, 0))\n",
    "def plot_bin_val_distribution(thresh):\n",
    "    print(f'Pixels under threshold: {np.sum(output < thresh)}')\n",
    "\n",
    "    view = np.copy(output)\n",
    "    t1 = np.where(view < thresh)\n",
    "    t2 = np.where(view >= thresh)\n",
    "    view[t1] = 255\n",
    "    view[t2] = 0\n",
    "\n",
    "    plt.imshow(img)\n",
    "    plt.colorbar()\n",
    "    plt.show()\n",
    "\n",
    "    plt.imshow(view)\n",
    "    plt.show()\n",
    "\n",
    "    k = 5\n",
    "    view = dilation(view, footprint=np.ones((k, k)))\n",
    "    view = erosion(view, footprint=np.ones((k, k)))\n",
    "\n",
    "    k = 7\n",
    "    view = erosion(view, footprint=np.ones((k, k)))\n",
    "    view = dilation(view, footprint=np.ones((k, k)))\n",
    "\n",
    "    plt.imshow(view)\n",
    "    plt.show()\n",
    "\n",
    "    countComponents = label(view)\n",
    "    print(f'Number of people: {np.max(countComponents)}')"
   ]
  },
  {
   "cell_type": "markdown",
   "metadata": {},
   "source": [
    "TODO: \n",
    "1) try adding mask on unimportant zones\n",
    "2) do a search over threshold value and noise removal parameters\n",
    "3) try cleaning result with gaussian blur from hw3\n",
    "4) visualize good sample (pixel) of GMM distribution for presentation"
   ]
  }
 ],
 "metadata": {
  "kernelspec": {
   "display_name": "Python 3 (ipykernel)",
   "language": "python",
   "name": "python3"
  },
  "language_info": {
   "codemirror_mode": {
    "name": "ipython",
    "version": 3
   },
   "file_extension": ".py",
   "mimetype": "text/x-python",
   "name": "python",
   "nbconvert_exporter": "python",
   "pygments_lexer": "ipython3",
   "version": "3.11.5"
  }
 },
 "nbformat": 4,
 "nbformat_minor": 2
}
